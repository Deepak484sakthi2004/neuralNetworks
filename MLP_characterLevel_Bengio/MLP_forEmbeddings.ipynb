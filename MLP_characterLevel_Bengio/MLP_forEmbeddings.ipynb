{
  "nbformat": 4,
  "nbformat_minor": 0,
  "metadata": {
    "colab": {
      "provenance": []
    },
    "kernelspec": {
      "name": "python3",
      "display_name": "Python 3"
    },
    "language_info": {
      "name": "python"
    }
  },
  "cells": [
    {
      "cell_type": "code",
      "source": [
        "# Reference https://www.jmlr.org/papers/volume3/bengio03a/bengio03a.pdf\n",
        "\n",
        "words = open(\"Names.txt\",'r').read().splitlines()\n",
        "words = [w.lower() for w in words]\n",
        "words[50:60]"
      ],
      "metadata": {
        "id": "UwvKaj6fOZS5",
        "colab": {
          "base_uri": "https://localhost:8080/"
        },
        "outputId": "75cbaf05-1944-48e7-a509-64ab1ae6ab8d"
      },
      "execution_count": 2,
      "outputs": [
        {
          "output_type": "execute_result",
          "data": {
            "text/plain": [
              "['aadhithan',\n",
              " 'aadhithiya',\n",
              " 'aadhithya',\n",
              " 'aadhithya varman',\n",
              " 'aadhithyaa',\n",
              " 'aadhityan',\n",
              " 'aadhiyannal',\n",
              " 'aadhunik',\n",
              " 'aadhyatm',\n",
              " 'aadi']"
            ]
          },
          "metadata": {},
          "execution_count": 2
        }
      ]
    },
    {
      "cell_type": "code",
      "source": [
        "chars = sorted(list(set(\"\".join(words))))\n",
        "\n",
        "chars = chars[8:-1]\n",
        "\n",
        "chars.append('.')\n",
        "stoi = {s:i+1 for i,s in enumerate(chars)}\n",
        "stoi['.'] = 0\n",
        "itos = {i:s for s,i in stoi.items()}\n",
        "\n",
        "itos"
      ],
      "metadata": {
        "id": "Zau1Cm_3lb45",
        "colab": {
          "base_uri": "https://localhost:8080/"
        },
        "outputId": "8370ca9a-5c76-4129-cb55-0a5fa65a79d1"
      },
      "execution_count": 3,
      "outputs": [
        {
          "output_type": "execute_result",
          "data": {
            "text/plain": [
              "{1: 'a',\n",
              " 2: 'b',\n",
              " 3: 'c',\n",
              " 4: 'd',\n",
              " 5: 'e',\n",
              " 6: 'f',\n",
              " 7: 'g',\n",
              " 8: 'h',\n",
              " 9: 'i',\n",
              " 10: 'j',\n",
              " 11: 'k',\n",
              " 12: 'l',\n",
              " 13: 'm',\n",
              " 14: 'n',\n",
              " 15: 'o',\n",
              " 16: 'p',\n",
              " 17: 'q',\n",
              " 18: 'r',\n",
              " 19: 's',\n",
              " 20: 't',\n",
              " 21: 'u',\n",
              " 22: 'v',\n",
              " 23: 'w',\n",
              " 24: 'x',\n",
              " 25: 'y',\n",
              " 26: 'z',\n",
              " 0: '.'}"
            ]
          },
          "metadata": {},
          "execution_count": 3
        }
      ]
    },
    {
      "cell_type": "code",
      "source": [
        "import torch\n",
        "import torch.nn.functional as F\n",
        "import matplotlib.pyplot as plt\n",
        "%matplotlib inline\n",
        "\n",
        "block_size=3 # context length: how many characters do we take to predict the next one?\n",
        "X,Y=[],[]\n",
        "\n",
        "for w in words[:10]:\n",
        "\n",
        "  print(w)\n",
        "  context = [0] * block_size\n",
        "  #print(context)\n",
        "  for ch in w +'.':\n",
        "    ix = stoi[ch]\n",
        "    X.append(context)\n",
        "    Y.append(ix)\n",
        "    print(''.join(itos[i] for i in context), '--->', itos[ix])\n",
        "    context = context[1:] + [ix] # crop and append\n",
        "\n",
        "\n",
        "X = torch.tensor(X)\n",
        "Y = torch.tensor(Y)"
      ],
      "metadata": {
        "colab": {
          "base_uri": "https://localhost:8080/"
        },
        "id": "TGOss6GBkqZR",
        "outputId": "9fec41bd-2fb0-459e-a8b9-9363de87701b"
      },
      "execution_count": 4,
      "outputs": [
        {
          "output_type": "stream",
          "name": "stdout",
          "text": [
            "aaban\n",
            "... ---> a\n",
            "..a ---> a\n",
            ".aa ---> b\n",
            "aab ---> a\n",
            "aba ---> n\n",
            "ban ---> .\n",
            "aabharan\n",
            "... ---> a\n",
            "..a ---> a\n",
            ".aa ---> b\n",
            "aab ---> h\n",
            "abh ---> a\n",
            "bha ---> r\n",
            "har ---> a\n",
            "ara ---> n\n",
            "ran ---> .\n",
            "aabhas\n",
            "... ---> a\n",
            "..a ---> a\n",
            ".aa ---> b\n",
            "aab ---> h\n",
            "abh ---> a\n",
            "bha ---> s\n",
            "has ---> .\n",
            "aabhat\n",
            "... ---> a\n",
            "..a ---> a\n",
            ".aa ---> b\n",
            "aab ---> h\n",
            "abh ---> a\n",
            "bha ---> t\n",
            "hat ---> .\n",
            "aabheer\n",
            "... ---> a\n",
            "..a ---> a\n",
            ".aa ---> b\n",
            "aab ---> h\n",
            "abh ---> e\n",
            "bhe ---> e\n",
            "hee ---> r\n",
            "eer ---> .\n",
            "aabheer\n",
            "... ---> a\n",
            "..a ---> a\n",
            ".aa ---> b\n",
            "aab ---> h\n",
            "abh ---> e\n",
            "bhe ---> e\n",
            "hee ---> r\n",
            "eer ---> .\n",
            "abheer\n",
            "... ---> a\n",
            "..a ---> b\n",
            ".ab ---> h\n",
            "abh ---> e\n",
            "bhe ---> e\n",
            "hee ---> r\n",
            "eer ---> .\n",
            "aabher\n",
            "... ---> a\n",
            "..a ---> a\n",
            ".aa ---> b\n",
            "aab ---> h\n",
            "abh ---> e\n",
            "bhe ---> r\n",
            "her ---> .\n",
            "aabi\n",
            "... ---> a\n",
            "..a ---> a\n",
            ".aa ---> b\n",
            "aab ---> i\n",
            "abi ---> .\n",
            "aabilesh\n",
            "... ---> a\n",
            "..a ---> a\n",
            ".aa ---> b\n",
            "aab ---> i\n",
            "abi ---> l\n",
            "bil ---> e\n",
            "ile ---> s\n",
            "les ---> h\n",
            "esh ---> .\n"
          ]
        }
      ]
    },
    {
      "cell_type": "code",
      "source": [
        "X.shape,X.dtype ,Y.shape,X.dtype"
      ],
      "metadata": {
        "colab": {
          "base_uri": "https://localhost:8080/"
        },
        "id": "RbkdgSK0kqi1",
        "outputId": "092e7bd9-dfac-4478-cdae-708c72572604"
      },
      "execution_count": 5,
      "outputs": [
        {
          "output_type": "execute_result",
          "data": {
            "text/plain": [
              "(torch.Size([73, 3]), torch.int64, torch.Size([73]), torch.int64)"
            ]
          },
          "metadata": {},
          "execution_count": 5
        }
      ]
    },
    {
      "cell_type": "code",
      "source": [
        "Y"
      ],
      "metadata": {
        "id": "wOXApajFkqoy",
        "colab": {
          "base_uri": "https://localhost:8080/"
        },
        "outputId": "d48b0da9-5ccd-4b2e-eb67-45d3178c0d57"
      },
      "execution_count": 6,
      "outputs": [
        {
          "output_type": "execute_result",
          "data": {
            "text/plain": [
              "tensor([ 1,  1,  2,  1, 14,  0,  1,  1,  2,  8,  1, 18,  1, 14,  0,  1,  1,  2,\n",
              "         8,  1, 19,  0,  1,  1,  2,  8,  1, 20,  0,  1,  1,  2,  8,  5,  5, 18,\n",
              "         0,  1,  1,  2,  8,  5,  5, 18,  0,  1,  2,  8,  5,  5, 18,  0,  1,  1,\n",
              "         2,  8,  5, 18,  0,  1,  1,  2,  9,  0,  1,  1,  2,  9, 12,  5, 19,  8,\n",
              "         0])"
            ]
          },
          "metadata": {},
          "execution_count": 6
        }
      ]
    },
    {
      "cell_type": "code",
      "source": [
        "# in the research paper there are 17,000 possible words (word level), and they reduced it into 30d space embeddings\n",
        "# here we do character level , and we have 27 possible characters, so I reduce that into a 2D embedding\n",
        "\n",
        "C=torch.randn((27,2))\n",
        "C"
      ],
      "metadata": {
        "id": "dO5JJRfokqrc",
        "colab": {
          "base_uri": "https://localhost:8080/"
        },
        "outputId": "6f383b02-5c56-4868-8d11-76bb751d789d"
      },
      "execution_count": 7,
      "outputs": [
        {
          "output_type": "execute_result",
          "data": {
            "text/plain": [
              "tensor([[ 1.2951e+00, -1.1670e+00],\n",
              "        [ 5.3265e-01, -3.4851e-01],\n",
              "        [-6.8116e-01,  3.5429e-01],\n",
              "        [ 4.9695e-01, -5.2877e-01],\n",
              "        [-1.6199e-01, -7.7273e-04],\n",
              "        [-3.4982e-01, -2.8576e-01],\n",
              "        [-8.5500e-01,  1.5937e+00],\n",
              "        [-3.8900e-01,  3.2021e-01],\n",
              "        [ 6.7628e-01, -9.4858e-01],\n",
              "        [-1.5602e+00, -3.0825e-01],\n",
              "        [ 1.3372e+00,  1.3962e+00],\n",
              "        [ 1.9182e-02, -2.7794e-01],\n",
              "        [ 4.0532e-01,  3.0605e+00],\n",
              "        [-6.0935e-01,  2.4195e-01],\n",
              "        [-1.5852e+00, -1.9953e+00],\n",
              "        [-1.5199e+00, -4.4399e-01],\n",
              "        [ 3.1712e-01, -1.7612e-01],\n",
              "        [ 9.9277e-01, -6.6411e-01],\n",
              "        [-4.0747e-01,  6.3060e-02],\n",
              "        [ 4.6735e-01,  3.0533e-01],\n",
              "        [-1.8272e+00,  1.8502e+00],\n",
              "        [-1.2539e+00,  1.9010e+00],\n",
              "        [ 3.3591e-01,  2.3179e-01],\n",
              "        [-6.1544e-01, -7.9743e-01],\n",
              "        [ 6.3297e-01, -8.1310e-01],\n",
              "        [ 1.7667e+00, -3.0741e-01],\n",
              "        [ 7.7424e-01,  5.2406e-01]])"
            ]
          },
          "metadata": {},
          "execution_count": 7
        }
      ]
    },
    {
      "cell_type": "code",
      "source": [
        "C[5]"
      ],
      "metadata": {
        "colab": {
          "base_uri": "https://localhost:8080/"
        },
        "id": "Z-8th7jwkl0L",
        "outputId": "a549065c-ed9f-4c72-d71c-4dfe6bbea52c"
      },
      "execution_count": 8,
      "outputs": [
        {
          "output_type": "execute_result",
          "data": {
            "text/plain": [
              "tensor([-0.3498, -0.2858])"
            ]
          },
          "metadata": {},
          "execution_count": 8
        }
      ]
    },
    {
      "cell_type": "code",
      "source": [
        "emb=F.one_hot(X,num_classes=27).float() @ C\n",
        "emb.shape"
      ],
      "metadata": {
        "colab": {
          "base_uri": "https://localhost:8080/"
        },
        "id": "FzizuQeokl25",
        "outputId": "962ad07b-683b-49b2-ec88-c2c2bce1b312"
      },
      "execution_count": 9,
      "outputs": [
        {
          "output_type": "execute_result",
          "data": {
            "text/plain": [
              "torch.Size([73, 3, 2])"
            ]
          },
          "metadata": {},
          "execution_count": 9
        }
      ]
    },
    {
      "cell_type": "code",
      "source": [
        "# for the second layer of the neural network\n",
        "W1=torch.randn((6,100))# 6 weighs(  2 each for every neuron in the 2D space ) and 100 neurons\n",
        "b1=torch.randn(100)\n",
        "\n",
        "# we need to do emb@W1 +b , but it not possible because the embedding doesnot work, because the matrix shape is not the same to multiply"
      ],
      "metadata": {
        "id": "q5Cet7sikl6c"
      },
      "execution_count": 10,
      "outputs": []
    },
    {
      "cell_type": "code",
      "source": [
        "# forward pass\n",
        "tanh=emb.view(-1,6) @ W1 +b1\n",
        "\n",
        "\n",
        "# the third layer of the neural network is:\n",
        "W2=torch.randn((100,27))\n",
        "b2=torch.randn(27)"
      ],
      "metadata": {
        "id": "9FeWfJ9NkqwQ"
      },
      "execution_count": 11,
      "outputs": []
    },
    {
      "cell_type": "code",
      "source": [
        "print(tanh.shape , W2.shape)\n",
        "\n",
        "logits =  tanh @ W2 + b2\n",
        "logits.shape"
      ],
      "metadata": {
        "id": "jrIM-5mXkqzz",
        "colab": {
          "base_uri": "https://localhost:8080/"
        },
        "outputId": "992d8a0d-51ac-4173-aa22-934e5ad86310"
      },
      "execution_count": 12,
      "outputs": [
        {
          "output_type": "stream",
          "name": "stdout",
          "text": [
            "torch.Size([73, 100]) torch.Size([100, 27])\n"
          ]
        },
        {
          "output_type": "execute_result",
          "data": {
            "text/plain": [
              "torch.Size([73, 27])"
            ]
          },
          "metadata": {},
          "execution_count": 12
        }
      ]
    },
    {
      "cell_type": "code",
      "source": [
        "counts = logits.exp()\n",
        "prob = counts/counts.sum(1,keepdim=True)"
      ],
      "metadata": {
        "id": "A96YVtbDkq2R"
      },
      "execution_count": 13,
      "outputs": []
    },
    {
      "cell_type": "code",
      "source": [],
      "metadata": {
        "id": "6b5fQRsfkq5l"
      },
      "execution_count": 26,
      "outputs": []
    },
    {
      "cell_type": "code",
      "source": [
        "prob.shape , Y.shape\n",
        "prob[torch.arange(X.shape[0]),Y]"
      ],
      "metadata": {
        "colab": {
          "base_uri": "https://localhost:8080/"
        },
        "id": "1nEIooQIf0kx",
        "outputId": "52f8a8bc-ebdd-42fc-b06b-22967777dfb9"
      },
      "execution_count": 27,
      "outputs": [
        {
          "output_type": "execute_result",
          "data": {
            "text/plain": [
              "tensor([1.5141e-21, 1.1253e-15, 1.2676e-06, 6.1957e-14, 2.9464e-07, 1.1951e-14,\n",
              "        1.5141e-21, 1.1253e-15, 1.2676e-06, 2.6084e-14, 4.6155e-05, 2.1018e-34,\n",
              "        1.1417e-07, 1.1880e-03, 1.5486e-16, 1.5141e-21, 1.1253e-15, 1.2676e-06,\n",
              "        2.6084e-14, 4.6155e-05, 6.3279e-11, 1.0839e-06, 1.5141e-21, 1.1253e-15,\n",
              "        1.2676e-06, 2.6084e-14, 4.6155e-05, 1.6401e-11, 2.9080e-20, 1.5141e-21,\n",
              "        1.1253e-15, 1.2676e-06, 2.6084e-14, 6.4109e-15, 3.4837e-15, 4.2824e-09,\n",
              "        6.9318e-02, 1.5141e-21, 1.1253e-15, 1.2676e-06, 2.6084e-14, 6.4109e-15,\n",
              "        3.4837e-15, 4.2824e-09, 6.9318e-02, 1.5141e-21, 3.3300e-14, 1.0154e-11,\n",
              "        6.4109e-15, 3.4837e-15, 4.2824e-09, 6.9318e-02, 1.5141e-21, 1.1253e-15,\n",
              "        1.2676e-06, 2.6084e-14, 6.4109e-15, 1.0876e-31, 1.4968e-07, 1.5141e-21,\n",
              "        1.1253e-15, 1.2676e-06, 3.1676e-24, 7.2900e-12, 1.5141e-21, 1.1253e-15,\n",
              "        1.2676e-06, 3.1676e-24, 9.6353e-11, 1.1752e-38, 2.4384e-37, 9.5881e-21,\n",
              "        1.3083e-09])"
            ]
          },
          "metadata": {},
          "execution_count": 27
        }
      ]
    },
    {
      "cell_type": "code",
      "source": [
        "prob[torch.arange(X.shape[0]),Y].log()"
      ],
      "metadata": {
        "colab": {
          "base_uri": "https://localhost:8080/"
        },
        "id": "9k3zP_gAf1Hy",
        "outputId": "1bd4ebd7-4c37-4728-8d03-1fdd526cd0a7"
      },
      "execution_count": 28,
      "outputs": [
        {
          "output_type": "execute_result",
          "data": {
            "text/plain": [
              "tensor([-47.9395, -34.4207, -13.5784, -30.4123, -15.0375, -32.0580, -47.9395,\n",
              "        -34.4207, -13.5784, -31.2775,  -9.9835, -77.5451, -15.9856,  -6.7355,\n",
              "        -36.4040, -47.9395, -34.4207, -13.5784, -31.2775,  -9.9835, -23.4835,\n",
              "        -13.7349, -47.9395, -34.4207, -13.5784, -31.2775,  -9.9835, -24.8337,\n",
              "        -44.9842, -47.9395, -34.4207, -13.5784, -31.2775, -32.6808, -33.2907,\n",
              "        -19.2688,  -2.6691, -47.9395, -34.4207, -13.5784, -31.2775, -32.6808,\n",
              "        -33.2907, -19.2688,  -2.6690, -47.9395, -31.0332, -25.3132, -32.6808,\n",
              "        -33.2907, -19.2688,  -2.6690, -47.9395, -34.4207, -13.5784, -31.2775,\n",
              "        -32.6808, -71.2961, -15.7148, -47.9395, -34.4207, -13.5784, -54.1091,\n",
              "        -25.6445, -47.9395, -34.4207, -13.5784, -54.1091, -23.0630, -87.3368,\n",
              "        -84.3043, -46.0938, -20.4545])"
            ]
          },
          "metadata": {},
          "execution_count": 28
        }
      ]
    },
    {
      "cell_type": "code",
      "source": [
        "# backward pass\n"
      ],
      "metadata": {
        "id": "U_AWFeWVf1K8"
      },
      "execution_count": 29,
      "outputs": []
    },
    {
      "cell_type": "code",
      "source": [
        "counts"
      ],
      "metadata": {
        "colab": {
          "base_uri": "https://localhost:8080/"
        },
        "id": "kUba_Mmbf1NR",
        "outputId": "72f7daab-1588-4763-defe-1e4e8fb71c38"
      },
      "execution_count": 30,
      "outputs": [
        {
          "output_type": "execute_result",
          "data": {
            "text/plain": [
              "tensor([[4.9025e+04, 2.3969e+08, 1.0161e+07,  ..., 1.5989e-19, 1.3799e+03,\n",
              "         1.6340e-10],\n",
              "        [1.7733e+09, 4.8660e+05, 1.4399e+07,  ..., 2.6752e-16, 8.5825e+08,\n",
              "         2.8627e-14],\n",
              "        [2.6025e+02, 1.6418e+06, 7.8106e+08,  ..., 2.1210e-14, 1.3713e+12,\n",
              "         9.4912e-14],\n",
              "        ...,\n",
              "        [1.4266e-09, 1.6538e+01, 6.9797e-16,  ..., 3.8140e-08, 5.7395e-03,\n",
              "         4.4147e-12],\n",
              "        [6.0594e+09, 4.3859e-06, 2.0592e+03,  ..., 6.4879e+00, 3.1375e+02,\n",
              "         4.9956e-13],\n",
              "        [4.5743e+00, 3.8758e+04, 3.7185e-02,  ..., 2.5955e-11, 1.2777e-05,\n",
              "         2.1100e-08]])"
            ]
          },
          "metadata": {},
          "execution_count": 30
        }
      ]
    },
    {
      "cell_type": "code",
      "source": [
        "# build the dataset\n",
        "block_size = 3 # context length: how many characters do we take to predict the next one?\n",
        "\n",
        "def build_dataset(words):\n",
        "  X, Y = [], []\n",
        "  for w in words:\n",
        "\n",
        "    #print(w)\n",
        "    context = [0] * block_size\n",
        "    for ch in w + '.':\n",
        "      if ch in chars:\n",
        "        ix = stoi[ch]\n",
        "        X.append(context)\n",
        "        Y.append(ix)\n",
        "        #print(''.join(itos[i] for i in context), '--->', itos[ix])\n",
        "        context = context[1:] + [ix] # crop and append\n",
        "\n",
        "  X = torch.tensor(X)\n",
        "  Y = torch.tensor(Y)\n",
        "  print(X.shape, Y.shape)\n",
        "  return X, Y\n",
        "\n",
        "import random\n",
        "random.seed(42)\n",
        "random.shuffle(words)\n",
        "n1 = int(0.8*len(words))\n",
        "n2 = int(0.9*len(words))\n",
        "\n",
        "Xtr, Ytr = build_dataset(words[:n1])\n",
        "Xdev, Ydev = build_dataset(words[n1:n2])\n",
        "Xte, Yte = build_dataset(words[n2:])"
      ],
      "metadata": {
        "colab": {
          "base_uri": "https://localhost:8080/"
        },
        "id": "-43e84gHf1P6",
        "outputId": "83b02189-98c2-4c96-e102-2c17802fa07a"
      },
      "execution_count": 31,
      "outputs": [
        {
          "output_type": "stream",
          "name": "stdout",
          "text": [
            "torch.Size([404350, 3]) torch.Size([404350])\n",
            "torch.Size([50439, 3]) torch.Size([50439])\n",
            "torch.Size([50695, 3]) torch.Size([50695])\n"
          ]
        }
      ]
    },
    {
      "cell_type": "code",
      "source": [
        "C = torch.randn((27, 2))"
      ],
      "metadata": {
        "id": "ZK5yt4ODjK5U"
      },
      "execution_count": 32,
      "outputs": []
    },
    {
      "cell_type": "code",
      "source": [
        "emb = C[X]\n",
        "emb.shape"
      ],
      "metadata": {
        "colab": {
          "base_uri": "https://localhost:8080/"
        },
        "id": "rKgEEaBdjK8N",
        "outputId": "ca7e7c28-c573-4b6d-eece-2eee5bd36456"
      },
      "execution_count": 33,
      "outputs": [
        {
          "output_type": "execute_result",
          "data": {
            "text/plain": [
              "torch.Size([73, 3, 2])"
            ]
          },
          "metadata": {},
          "execution_count": 33
        }
      ]
    },
    {
      "cell_type": "code",
      "source": [
        "W1 = torch.randn((6, 100))\n",
        "b1 = torch.randn(100)"
      ],
      "metadata": {
        "id": "3rjd2u8tjN_w"
      },
      "execution_count": 34,
      "outputs": []
    },
    {
      "cell_type": "code",
      "source": [
        "h = torch.tanh(emb.view(-1, 6) @ W1 + b1)"
      ],
      "metadata": {
        "id": "sHkUuxOtjOB0"
      },
      "execution_count": 35,
      "outputs": []
    },
    {
      "cell_type": "code",
      "source": [
        "W2 = torch.randn((100, 27))\n",
        "b2 = torch.randn(27)"
      ],
      "metadata": {
        "id": "JzfuBnsMjOFN"
      },
      "execution_count": 36,
      "outputs": []
    },
    {
      "cell_type": "code",
      "source": [
        "logits = h @ W2 + b2"
      ],
      "metadata": {
        "id": "hzITIpn0jWnj"
      },
      "execution_count": 37,
      "outputs": []
    },
    {
      "cell_type": "code",
      "source": [
        "counts = logits.exp()"
      ],
      "metadata": {
        "id": "GlmcJqOSjdjO"
      },
      "execution_count": 38,
      "outputs": []
    },
    {
      "cell_type": "code",
      "source": [
        "prob = counts / counts.sum(1, keepdims=True)"
      ],
      "metadata": {
        "id": "ovKfIOJ_jdlt"
      },
      "execution_count": 39,
      "outputs": []
    },
    {
      "cell_type": "code",
      "source": [
        "loss = -prob[torch.arange(X.shape[0]), Y].log().mean()\n",
        "loss"
      ],
      "metadata": {
        "colab": {
          "base_uri": "https://localhost:8080/"
        },
        "id": "0CHBJMmAjdo1",
        "outputId": "cfec9030-9bc5-4397-9fed-7077420a1eb3"
      },
      "execution_count": 40,
      "outputs": [
        {
          "output_type": "execute_result",
          "data": {
            "text/plain": [
              "tensor(22.4781)"
            ]
          },
          "metadata": {},
          "execution_count": 40
        }
      ]
    },
    {
      "cell_type": "code",
      "source": [
        "g = torch.Generator().manual_seed(2147483647) # for reproducibility\n",
        "C = torch.randn((27, 10), generator=g)\n",
        "W1 = torch.randn((30, 200), generator=g)\n",
        "b1 = torch.randn(200, generator=g)\n",
        "W2 = torch.randn((200, 27), generator=g)\n",
        "b2 = torch.randn(27, generator=g)\n",
        "parameters = [C, W1, b1, W2, b2]"
      ],
      "metadata": {
        "id": "s9-45cKzjuuE"
      },
      "execution_count": 41,
      "outputs": []
    },
    {
      "cell_type": "code",
      "source": [
        "sum(p.nelement() for p in parameters)"
      ],
      "metadata": {
        "colab": {
          "base_uri": "https://localhost:8080/"
        },
        "id": "MjrB6kWPjyd9",
        "outputId": "956df5d8-caff-4932-8642-5230221afe7d"
      },
      "execution_count": 42,
      "outputs": [
        {
          "output_type": "execute_result",
          "data": {
            "text/plain": [
              "11897"
            ]
          },
          "metadata": {},
          "execution_count": 42
        }
      ]
    },
    {
      "cell_type": "code",
      "source": [
        "for p in parameters:\n",
        "  p.requires_grad = True"
      ],
      "metadata": {
        "id": "Y2ob9SMdjygI"
      },
      "execution_count": 43,
      "outputs": []
    },
    {
      "cell_type": "code",
      "source": [
        "lre = torch.linspace(-3, 0, 1000)\n",
        "lrs = 10**lre"
      ],
      "metadata": {
        "id": "8VD_jmBlj3YK"
      },
      "execution_count": 44,
      "outputs": []
    },
    {
      "cell_type": "code",
      "source": [
        "lri = []\n",
        "lossi = []\n",
        "stepi = []"
      ],
      "metadata": {
        "id": "gjr5GtJcj3cR"
      },
      "execution_count": 45,
      "outputs": []
    },
    {
      "cell_type": "code",
      "source": [
        "for i in range(446):\n",
        "\n",
        "  # minibatch construct\n",
        "  ix = torch.randint(0, Xtr.shape[0], (32,))\n",
        "\n",
        "  # forward pass\n",
        "  emb = C[Xtr[ix]] # (32, 3, 10)\n",
        "  h = torch.tanh(emb.view(-1, 30) @ W1 + b1) # (32, 200)\n",
        "  logits = h @ W2 + b2 # (32, 27)\n",
        "  loss = F.cross_entropy(logits, Ytr[ix])\n",
        "  print(loss.item())\n",
        "\n",
        "  # backward pass\n",
        "  for p in parameters:\n",
        "    p.grad = None\n",
        "  loss.backward()\n",
        "\n",
        "  # update\n",
        "  #lr = lrs[i]\n",
        "  lr = 0.1 if i < 100000 else 0.01\n",
        "  for p in parameters:\n",
        "    p.data += -lr * p.grad\n",
        "\n",
        "  # track stats\n",
        "  #lri.append(lre[i])\n",
        "  stepi.append(i)\n",
        "  lossi.append(loss.log10().item())\n",
        "\n",
        "#print(loss.item())"
      ],
      "metadata": {
        "colab": {
          "base_uri": "https://localhost:8080/"
        },
        "id": "4TqIGfkcjyia",
        "outputId": "b5f8cc35-6dc2-458f-b3ee-60644ed3e7f4"
      },
      "execution_count": 253,
      "outputs": [
        {
          "output_type": "stream",
          "name": "stdout",
          "text": [
            "2.325985908508301\n",
            "1.9166467189788818\n",
            "1.9605953693389893\n",
            "2.0230321884155273\n",
            "2.0795187950134277\n",
            "2.368786096572876\n",
            "2.331864833831787\n",
            "2.3804430961608887\n",
            "2.1661012172698975\n",
            "2.3280351161956787\n",
            "1.9809330701828003\n",
            "2.2788496017456055\n",
            "2.4924848079681396\n",
            "2.091517448425293\n",
            "2.4983675479888916\n",
            "1.8971374034881592\n",
            "2.3868863582611084\n",
            "2.1891672611236572\n",
            "2.144575595855713\n",
            "2.220062494277954\n",
            "1.7139593362808228\n",
            "2.1776371002197266\n",
            "2.2524361610412598\n",
            "1.749436616897583\n",
            "1.786877989768982\n",
            "2.1772172451019287\n",
            "2.0849449634552\n",
            "2.45246958732605\n",
            "2.436082601547241\n",
            "2.480477809906006\n",
            "2.4277751445770264\n",
            "2.426407814025879\n",
            "1.8767108917236328\n",
            "2.0637457370758057\n",
            "1.9551116228103638\n",
            "1.8247452974319458\n",
            "2.667980670928955\n",
            "2.511199474334717\n",
            "2.1227238178253174\n",
            "1.9829543828964233\n",
            "2.0847816467285156\n",
            "1.5074491500854492\n",
            "2.3572285175323486\n",
            "2.0130794048309326\n",
            "2.495462417602539\n",
            "2.168588638305664\n",
            "2.023843765258789\n",
            "2.4763870239257812\n",
            "2.269502878189087\n",
            "1.7357470989227295\n",
            "2.4629428386688232\n",
            "2.3890678882598877\n",
            "2.0122745037078857\n",
            "1.5869261026382446\n",
            "2.4761898517608643\n",
            "2.25995135307312\n",
            "2.159038782119751\n",
            "2.3880910873413086\n",
            "2.062304973602295\n",
            "1.8460129499435425\n",
            "2.4103305339813232\n",
            "2.620464563369751\n",
            "3.0429351329803467\n",
            "1.9989653825759888\n",
            "2.0464420318603516\n",
            "1.9704338312149048\n",
            "2.7108511924743652\n",
            "2.6107747554779053\n",
            "2.1087729930877686\n",
            "2.47338604927063\n",
            "2.1811470985412598\n",
            "1.9301470518112183\n",
            "2.686875820159912\n",
            "2.28879714012146\n",
            "2.4368033409118652\n",
            "2.358795404434204\n",
            "2.433936357498169\n",
            "1.9657496213912964\n",
            "1.8009878396987915\n",
            "2.798226833343506\n",
            "2.216594934463501\n",
            "1.8766826391220093\n",
            "2.5915117263793945\n",
            "1.8602994680404663\n",
            "1.8076452016830444\n",
            "1.9898412227630615\n",
            "1.6651431322097778\n",
            "2.254487991333008\n",
            "2.0666158199310303\n",
            "2.134296178817749\n",
            "2.0316033363342285\n",
            "2.3322086334228516\n",
            "1.8327231407165527\n",
            "2.2515432834625244\n",
            "2.624561309814453\n",
            "2.27927827835083\n",
            "2.188131332397461\n",
            "1.8448296785354614\n",
            "2.890963077545166\n",
            "2.10412335395813\n",
            "2.5733835697174072\n",
            "1.8981671333312988\n",
            "2.0018439292907715\n",
            "1.9941627979278564\n",
            "2.1614089012145996\n",
            "2.2508111000061035\n",
            "1.9594696760177612\n",
            "2.582170248031616\n",
            "2.004437208175659\n",
            "2.236236572265625\n",
            "1.6128411293029785\n",
            "2.373566150665283\n",
            "2.2290995121002197\n",
            "2.0279858112335205\n",
            "1.9292048215866089\n",
            "2.3795080184936523\n",
            "2.153071880340576\n",
            "2.1230781078338623\n",
            "2.521888017654419\n",
            "1.8776578903198242\n",
            "2.179121971130371\n",
            "2.525620222091675\n",
            "1.8662606477737427\n",
            "2.550755739212036\n",
            "1.8111507892608643\n",
            "2.3228328227996826\n",
            "2.5977299213409424\n",
            "2.301844835281372\n",
            "1.959873080253601\n",
            "2.3350067138671875\n",
            "2.270359754562378\n",
            "1.6637153625488281\n",
            "2.0390520095825195\n",
            "2.0901854038238525\n",
            "1.949267029762268\n",
            "2.007479190826416\n",
            "1.8123418092727661\n",
            "2.105337142944336\n",
            "2.00508189201355\n",
            "2.2206766605377197\n",
            "2.2103748321533203\n",
            "2.0928454399108887\n",
            "1.8543505668640137\n",
            "2.6118834018707275\n",
            "2.1289682388305664\n",
            "2.0885043144226074\n",
            "2.6832809448242188\n",
            "2.1739695072174072\n",
            "1.8005281686782837\n",
            "2.187507152557373\n",
            "2.446758985519409\n",
            "2.199159622192383\n",
            "2.0090596675872803\n",
            "2.1880404949188232\n",
            "2.381159782409668\n",
            "2.3612537384033203\n",
            "2.780418872833252\n",
            "2.6930949687957764\n",
            "2.2531232833862305\n",
            "1.8827862739562988\n",
            "2.133504867553711\n",
            "2.0994455814361572\n",
            "2.138789415359497\n",
            "1.8834813833236694\n",
            "2.7789971828460693\n",
            "2.4254674911499023\n",
            "1.8965191841125488\n",
            "2.6403002738952637\n",
            "2.2902626991271973\n",
            "2.0941741466522217\n",
            "2.076582908630371\n",
            "2.007927417755127\n",
            "2.25313138961792\n",
            "1.9529060125350952\n",
            "1.9510716199874878\n",
            "2.5198745727539062\n",
            "2.20353364944458\n",
            "2.2753729820251465\n",
            "1.9278924465179443\n",
            "2.7941558361053467\n",
            "2.0602283477783203\n",
            "2.04252028465271\n",
            "2.390730381011963\n",
            "2.5082404613494873\n",
            "2.1010451316833496\n",
            "2.0983645915985107\n",
            "2.11975359916687\n",
            "1.596754789352417\n",
            "2.5772650241851807\n",
            "2.693936586380005\n",
            "2.375896453857422\n",
            "2.0860214233398438\n",
            "2.216026782989502\n",
            "2.5037224292755127\n",
            "2.3592350482940674\n",
            "1.8340816497802734\n",
            "1.9324854612350464\n",
            "2.43505597114563\n",
            "2.1622567176818848\n",
            "1.925837755203247\n",
            "2.2138590812683105\n",
            "2.225504159927368\n",
            "2.575817823410034\n",
            "2.2199065685272217\n",
            "1.8079547882080078\n",
            "1.7627184391021729\n",
            "2.2679803371429443\n",
            "2.3143622875213623\n",
            "2.067456007003784\n",
            "2.2537074089050293\n",
            "2.1155405044555664\n",
            "2.222198486328125\n",
            "2.500808000564575\n",
            "2.1064279079437256\n",
            "1.9050155878067017\n",
            "2.4928510189056396\n",
            "1.810709834098816\n",
            "1.6489393711090088\n",
            "2.069246768951416\n",
            "2.0877301692962646\n",
            "2.244351863861084\n",
            "2.526216983795166\n",
            "2.4270293712615967\n",
            "2.3400309085845947\n",
            "2.2639591693878174\n",
            "1.8069000244140625\n",
            "2.859103202819824\n",
            "1.6911303997039795\n",
            "2.0589897632598877\n",
            "2.504990577697754\n",
            "2.877861976623535\n",
            "2.4392735958099365\n",
            "2.0593502521514893\n",
            "2.1614480018615723\n",
            "1.9101274013519287\n",
            "1.9912664890289307\n",
            "3.0521984100341797\n",
            "1.9792838096618652\n",
            "2.06563138961792\n",
            "2.335230827331543\n",
            "1.9215095043182373\n",
            "1.9906971454620361\n",
            "2.0222387313842773\n",
            "1.9625771045684814\n",
            "2.129884719848633\n",
            "2.2239139080047607\n",
            "1.8252326250076294\n",
            "2.453423261642456\n",
            "2.383086681365967\n",
            "1.7701951265335083\n",
            "2.0771098136901855\n",
            "2.1034934520721436\n",
            "2.198387861251831\n",
            "2.193375587463379\n",
            "1.8784494400024414\n",
            "2.06846284866333\n",
            "2.5593361854553223\n",
            "2.5691328048706055\n",
            "2.2823872566223145\n",
            "2.5005693435668945\n",
            "2.0827481746673584\n",
            "1.8633819818496704\n",
            "1.897090196609497\n",
            "2.428956985473633\n",
            "2.556670665740967\n",
            "2.4531092643737793\n",
            "2.295917272567749\n",
            "1.9745960235595703\n",
            "1.9916623830795288\n",
            "2.3482818603515625\n",
            "2.126216411590576\n",
            "2.1457574367523193\n",
            "2.408453941345215\n",
            "1.9048333168029785\n",
            "1.9969600439071655\n",
            "1.6024335622787476\n",
            "2.424802541732788\n",
            "2.1857895851135254\n",
            "2.364802598953247\n",
            "2.5396933555603027\n",
            "2.031616449356079\n",
            "1.9551491737365723\n",
            "2.3483593463897705\n",
            "1.9306288957595825\n",
            "1.8523812294006348\n",
            "1.967427372932434\n",
            "2.326265573501587\n",
            "2.1210474967956543\n",
            "2.1710658073425293\n",
            "2.3532910346984863\n",
            "2.3626983165740967\n",
            "1.8970918655395508\n",
            "1.9282597303390503\n",
            "1.9927138090133667\n",
            "2.57324481010437\n",
            "2.8006396293640137\n",
            "2.31193470954895\n",
            "2.3558380603790283\n",
            "2.1893794536590576\n",
            "2.557600259780884\n",
            "2.488858461380005\n",
            "2.4039299488067627\n",
            "2.082223653793335\n",
            "2.2713193893432617\n",
            "1.9945366382598877\n",
            "2.2826032638549805\n",
            "1.787397861480713\n",
            "2.6380796432495117\n",
            "1.805342197418213\n",
            "2.2411813735961914\n",
            "1.8694690465927124\n",
            "1.7820570468902588\n",
            "1.957336187362671\n",
            "1.7354819774627686\n",
            "1.8886032104492188\n",
            "2.4835193157196045\n",
            "2.065643787384033\n",
            "2.0401217937469482\n",
            "2.1559784412384033\n",
            "2.3707797527313232\n",
            "1.9922125339508057\n",
            "2.4619245529174805\n",
            "2.123278856277466\n",
            "1.8846749067306519\n",
            "2.3673548698425293\n",
            "2.066710948944092\n",
            "2.2303037643432617\n",
            "1.6814842224121094\n",
            "2.3430492877960205\n",
            "1.8635320663452148\n",
            "1.8900153636932373\n",
            "1.939618468284607\n",
            "2.557304859161377\n",
            "2.762873649597168\n",
            "2.339545249938965\n",
            "2.3007471561431885\n",
            "2.078536033630371\n",
            "2.164874792098999\n",
            "1.8237403631210327\n",
            "2.07916259765625\n",
            "2.4121756553649902\n",
            "1.993796467781067\n",
            "1.708896279335022\n",
            "2.3728530406951904\n",
            "2.1080338954925537\n",
            "2.2792913913726807\n",
            "2.065983772277832\n",
            "2.15718936920166\n",
            "2.107234477996826\n",
            "2.5730252265930176\n",
            "2.342337131500244\n",
            "2.6447741985321045\n",
            "2.119753837585449\n",
            "2.211792230606079\n",
            "2.029527187347412\n",
            "1.7964849472045898\n",
            "2.1842868328094482\n",
            "1.5745328664779663\n",
            "2.07011342048645\n",
            "2.2062923908233643\n",
            "2.7017881870269775\n",
            "1.43141770362854\n",
            "1.7710206508636475\n",
            "2.3449316024780273\n",
            "1.6838749647140503\n",
            "1.8703181743621826\n",
            "1.7853766679763794\n",
            "2.237173080444336\n",
            "2.350572109222412\n",
            "2.7276296615600586\n",
            "2.142486810684204\n",
            "1.7951099872589111\n",
            "1.7752352952957153\n",
            "1.7591922283172607\n",
            "2.2758677005767822\n",
            "2.1377549171447754\n",
            "2.2846949100494385\n",
            "2.229978084564209\n",
            "2.170100212097168\n",
            "1.8296377658843994\n",
            "2.419553756713867\n",
            "2.2964322566986084\n",
            "2.2050132751464844\n",
            "1.6836011409759521\n",
            "2.5291152000427246\n",
            "1.7546744346618652\n",
            "2.118893623352051\n",
            "1.9517420530319214\n",
            "2.1082522869110107\n",
            "2.4394171237945557\n",
            "1.9015551805496216\n",
            "1.9426555633544922\n",
            "2.258071184158325\n",
            "2.170254707336426\n",
            "2.362208366394043\n",
            "1.7133146524429321\n",
            "1.9292569160461426\n",
            "2.3438658714294434\n",
            "2.254685640335083\n",
            "2.361196756362915\n",
            "2.1996054649353027\n",
            "2.5901691913604736\n",
            "2.2227108478546143\n",
            "2.2835867404937744\n",
            "2.114114284515381\n",
            "2.1766977310180664\n",
            "1.8280898332595825\n",
            "2.299992799758911\n",
            "2.297677516937256\n",
            "1.8789570331573486\n",
            "1.6515251398086548\n",
            "2.5900096893310547\n",
            "1.891357660293579\n",
            "2.0316717624664307\n",
            "1.9119385480880737\n",
            "2.753051996231079\n",
            "2.6510398387908936\n",
            "2.3179781436920166\n",
            "1.8478907346725464\n",
            "2.5623178482055664\n",
            "2.1547157764434814\n",
            "2.077444076538086\n",
            "2.4087486267089844\n",
            "2.270390272140503\n",
            "2.611274242401123\n",
            "2.252378463745117\n",
            "1.9628956317901611\n",
            "2.2694993019104004\n",
            "1.9021586179733276\n",
            "2.0416078567504883\n",
            "2.0452229976654053\n",
            "1.6973991394042969\n",
            "1.9362510442733765\n",
            "2.4038782119750977\n",
            "2.291313648223877\n",
            "1.7680851221084595\n",
            "2.4788644313812256\n",
            "2.068206310272217\n",
            "1.993513822555542\n",
            "2.0514638423919678\n",
            "1.782665729522705\n",
            "2.029844284057617\n",
            "2.384876251220703\n",
            "2.1582062244415283\n",
            "2.081855297088623\n",
            "1.5756993293762207\n"
          ]
        }
      ]
    },
    {
      "cell_type": "code",
      "source": [
        "loss"
      ],
      "metadata": {
        "colab": {
          "base_uri": "https://localhost:8080/"
        },
        "id": "CV6vXLRVkoFj",
        "outputId": "b9586f18-f75b-4a38-ca5a-93f8d30aa5ec"
      },
      "execution_count": 254,
      "outputs": [
        {
          "output_type": "execute_result",
          "data": {
            "text/plain": [
              "tensor(1.5757, grad_fn=<NllLossBackward0>)"
            ]
          },
          "metadata": {},
          "execution_count": 254
        }
      ]
    },
    {
      "cell_type": "code",
      "source": [
        "plt.plot(stepi, lossi)"
      ],
      "metadata": {
        "colab": {
          "base_uri": "https://localhost:8080/",
          "height": 448
        },
        "id": "H7VqEAOpkBbM",
        "outputId": "5ab0d62c-f943-448d-c53b-492c14b6a449"
      },
      "execution_count": 255,
      "outputs": [
        {
          "output_type": "execute_result",
          "data": {
            "text/plain": [
              "[<matplotlib.lines.Line2D at 0x791192a9d240>]"
            ]
          },
          "metadata": {},
          "execution_count": 255
        },
        {
          "output_type": "display_data",
          "data": {
            "text/plain": [
              "<Figure size 640x480 with 1 Axes>"
            ],
            "image/png": "[encoded data removed]"
          },
          "metadata": {}
        }
      ]
    },
    {
      "cell_type": "code",
      "source": [
        "emb = C[Xtr] # (32, 3, 2)\n",
        "h = torch.tanh(emb.view(-1, 30) @ W1 + b1) # (32, 100)\n",
        "logits = h @ W2 + b2 # (32, 27)\n",
        "loss = F.cross_entropy(logits, Ytr)\n",
        "loss"
      ],
      "metadata": {
        "colab": {
          "base_uri": "https://localhost:8080/"
        },
        "id": "JlI07uphkBn5",
        "outputId": "ac511a37-de95-4e9e-9f42-60cfea2e63fd"
      },
      "execution_count": 256,
      "outputs": [
        {
          "output_type": "execute_result",
          "data": {
            "text/plain": [
              "tensor(2.1283, grad_fn=<NllLossBackward0>)"
            ]
          },
          "metadata": {},
          "execution_count": 256
        }
      ]
    },
    {
      "cell_type": "code",
      "source": [
        "plt.figure(figsize=(8,8))\n",
        "plt.scatter(C[:,0].data, C[:,1].data, s=200)\n",
        "for i in range(C.shape[0]):\n",
        "    plt.text(C[i,0].item(), C[i,1].item(), itos[i], ha=\"center\", va=\"center\", color='white')\n",
        "plt.grid('minor')"
      ],
      "metadata": {
        "colab": {
          "base_uri": "https://localhost:8080/",
          "height": 676
        },
        "id": "HKrZuP_8kBra",
        "outputId": "0852b364-5c31-4ad3-f2ac-8bde8d0942ae"
      },
      "execution_count": 257,
      "outputs": [
        {
          "output_type": "display_data",
          "data": {
            "text/plain": [
              "<Figure size 800x800 with 1 Axes>"
            ],
            "image/png": "[encoded data removed]"
          },
          "metadata": {}
        }
      ]
    },
    {
      "cell_type": "code",
      "source": [
        "context = [0] * block_size\n",
        "C[torch.tensor([context])].shape"
      ],
      "metadata": {
        "colab": {
          "base_uri": "https://localhost:8080/"
        },
        "id": "YyJuL5N4kQLY",
        "outputId": "7c90ccca-c12d-464c-ad6f-a726ee004c5a"
      },
      "execution_count": 258,
      "outputs": [
        {
          "output_type": "execute_result",
          "data": {
            "text/plain": [
              "torch.Size([1, 3, 10])"
            ]
          },
          "metadata": {},
          "execution_count": 258
        }
      ]
    },
    {
      "cell_type": "code",
      "source": [
        "g = torch.Generator().manual_seed(2147483647 + 10)\n",
        "\n",
        "for _ in range(20):\n",
        "\n",
        "    out = []\n",
        "    context = [0] * block_size # initialize with all ...\n",
        "    while True:\n",
        "      emb = C[torch.tensor([context])] # (1,block_size,d)\n",
        "      h = torch.tanh(emb.view(1, -1) @ W1 + b1)\n",
        "      logits = h @ W2 + b2\n",
        "      probs = F.softmax(logits, dim=1)\n",
        "      ix = torch.multinomial(probs, num_samples=1, generator=g).item()\n",
        "      context = context[1:] + [ix]\n",
        "      out.append(ix)\n",
        "      if ix == 0:\n",
        "        break\n",
        "\n",
        "    print(''.join(itos[i] for i in out))"
      ],
      "metadata": {
        "colab": {
          "base_uri": "https://localhost:8080/"
        },
        "id": "wp5WhLY1kVQ0",
        "outputId": "4eaab4e3-29dd-4ffc-d159-e07e645c6c46"
      },
      "execution_count": 259,
      "outputs": [
        {
          "output_type": "stream",
          "name": "stdout",
          "text": [
            "mrithimyangheeswadhri.\n",
            "amanthrujandraru.\n",
            "adhardheli.\n",
            "hemi.\n",
            "padhaden.\n",
            "vantharshathivhvarann.\n",
            "shreergahi.\n",
            "jesthi.\n",
            "jeethushnithushnu.\n",
            "amandh.\n",
            "yashuvieh.\n",
            "yivajayan.\n",
            "yaathil.\n",
            "aadyansun.\n",
            "jajayventra.\n",
            "tha.\n",
            "nivekish.\n",
            "pardhikhni.\n",
            "yoghi.\n",
            "priya.\n"
          ]
        }
      ]
    }
  ]
}